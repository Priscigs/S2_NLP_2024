{
 "cells": [
  {
   "cell_type": "code",
   "execution_count": 1,
   "metadata": {},
   "outputs": [],
   "source": [
    "import pandas as pd\n",
    "import numpy as np"
   ]
  },
  {
   "cell_type": "code",
   "execution_count": 2,
   "metadata": {},
   "outputs": [],
   "source": [
    "file_path = 'pmi_ejercicio.xlsx'\n",
    "df_PMI = pd.read_excel(file_path)"
   ]
  },
  {
   "cell_type": "code",
   "execution_count": 3,
   "metadata": {},
   "outputs": [
    {
     "name": "stdout",
     "output_type": "stream",
     "text": [
      "<class 'pandas.core.frame.DataFrame'>\n",
      "RangeIndex: 5 entries, 0 to 4\n",
      "Data columns (total 6 columns):\n",
      " #   Column      Non-Null Count  Dtype \n",
      "---  ------      --------------  ----- \n",
      " 0   Unnamed: 0  4 non-null      object\n",
      " 1   Unnamed: 1  5 non-null      object\n",
      " 2   Unnamed: 2  5 non-null      object\n",
      " 3   Unnamed: 3  5 non-null      object\n",
      " 4   Unnamed: 4  5 non-null      object\n",
      " 5   Unnamed: 5  5 non-null      object\n",
      "dtypes: object(6)\n",
      "memory usage: 368.0+ bytes\n"
     ]
    }
   ],
   "source": [
    "df_PMI.info()"
   ]
  },
  {
   "cell_type": "code",
   "execution_count": 4,
   "metadata": {},
   "outputs": [
    {
     "data": {
      "text/html": [
       "<div>\n",
       "<style scoped>\n",
       "    .dataframe tbody tr th:only-of-type {\n",
       "        vertical-align: middle;\n",
       "    }\n",
       "\n",
       "    .dataframe tbody tr th {\n",
       "        vertical-align: top;\n",
       "    }\n",
       "\n",
       "    .dataframe thead th {\n",
       "        text-align: right;\n",
       "    }\n",
       "</style>\n",
       "<table border=\"1\" class=\"dataframe\">\n",
       "  <thead>\n",
       "    <tr style=\"text-align: right;\">\n",
       "      <th></th>\n",
       "      <th>Unnamed: 0</th>\n",
       "      <th>Unnamed: 1</th>\n",
       "      <th>Unnamed: 2</th>\n",
       "      <th>Unnamed: 3</th>\n",
       "      <th>Unnamed: 4</th>\n",
       "      <th>Unnamed: 5</th>\n",
       "    </tr>\n",
       "  </thead>\n",
       "  <tbody>\n",
       "    <tr>\n",
       "      <th>count</th>\n",
       "      <td>4</td>\n",
       "      <td>5</td>\n",
       "      <td>5</td>\n",
       "      <td>5</td>\n",
       "      <td>5</td>\n",
       "      <td>5</td>\n",
       "    </tr>\n",
       "    <tr>\n",
       "      <th>unique</th>\n",
       "      <td>4</td>\n",
       "      <td>5</td>\n",
       "      <td>5</td>\n",
       "      <td>5</td>\n",
       "      <td>4</td>\n",
       "      <td>5</td>\n",
       "    </tr>\n",
       "    <tr>\n",
       "      <th>top</th>\n",
       "      <td>Cherry</td>\n",
       "      <td>Computer</td>\n",
       "      <td>data</td>\n",
       "      <td>result</td>\n",
       "      <td>5</td>\n",
       "      <td>sugar</td>\n",
       "    </tr>\n",
       "    <tr>\n",
       "      <th>freq</th>\n",
       "      <td>1</td>\n",
       "      <td>1</td>\n",
       "      <td>1</td>\n",
       "      <td>1</td>\n",
       "      <td>2</td>\n",
       "      <td>1</td>\n",
       "    </tr>\n",
       "  </tbody>\n",
       "</table>\n",
       "</div>"
      ],
      "text/plain": [
       "       Unnamed: 0 Unnamed: 1 Unnamed: 2 Unnamed: 3  Unnamed: 4 Unnamed: 5\n",
       "count           4          5          5          5           5          5\n",
       "unique          4          5          5          5           4          5\n",
       "top        Cherry   Computer       data     result           5      sugar\n",
       "freq            1          1          1          1           2          1"
      ]
     },
     "execution_count": 4,
     "metadata": {},
     "output_type": "execute_result"
    }
   ],
   "source": [
    "df_PMI.describe()"
   ]
  },
  {
   "cell_type": "code",
   "execution_count": 5,
   "metadata": {},
   "outputs": [
    {
     "data": {
      "text/html": [
       "<div>\n",
       "<style scoped>\n",
       "    .dataframe tbody tr th:only-of-type {\n",
       "        vertical-align: middle;\n",
       "    }\n",
       "\n",
       "    .dataframe tbody tr th {\n",
       "        vertical-align: top;\n",
       "    }\n",
       "\n",
       "    .dataframe thead th {\n",
       "        text-align: right;\n",
       "    }\n",
       "</style>\n",
       "<table border=\"1\" class=\"dataframe\">\n",
       "  <thead>\n",
       "    <tr style=\"text-align: right;\">\n",
       "      <th></th>\n",
       "      <th>Unnamed: 0</th>\n",
       "      <th>Unnamed: 1</th>\n",
       "      <th>Unnamed: 2</th>\n",
       "      <th>Unnamed: 3</th>\n",
       "      <th>Unnamed: 4</th>\n",
       "      <th>Unnamed: 5</th>\n",
       "    </tr>\n",
       "  </thead>\n",
       "  <tbody>\n",
       "    <tr>\n",
       "      <th>0</th>\n",
       "      <td>NaN</td>\n",
       "      <td>Computer</td>\n",
       "      <td>data</td>\n",
       "      <td>result</td>\n",
       "      <td>pie</td>\n",
       "      <td>sugar</td>\n",
       "    </tr>\n",
       "    <tr>\n",
       "      <th>1</th>\n",
       "      <td>Cherry</td>\n",
       "      <td>2</td>\n",
       "      <td>8</td>\n",
       "      <td>9</td>\n",
       "      <td>44260</td>\n",
       "      <td>25</td>\n",
       "    </tr>\n",
       "    <tr>\n",
       "      <th>2</th>\n",
       "      <td>Strawberry</td>\n",
       "      <td>0</td>\n",
       "      <td>0</td>\n",
       "      <td>1</td>\n",
       "      <td>5</td>\n",
       "      <td>19</td>\n",
       "    </tr>\n",
       "    <tr>\n",
       "      <th>3</th>\n",
       "      <td>Digital</td>\n",
       "      <td>1670</td>\n",
       "      <td>1683</td>\n",
       "      <td>85</td>\n",
       "      <td>5</td>\n",
       "      <td>4</td>\n",
       "    </tr>\n",
       "    <tr>\n",
       "      <th>4</th>\n",
       "      <td>Information</td>\n",
       "      <td>3325</td>\n",
       "      <td>3982</td>\n",
       "      <td>378</td>\n",
       "      <td>512</td>\n",
       "      <td>13</td>\n",
       "    </tr>\n",
       "  </tbody>\n",
       "</table>\n",
       "</div>"
      ],
      "text/plain": [
       "    Unnamed: 0 Unnamed: 1 Unnamed: 2 Unnamed: 3 Unnamed: 4 Unnamed: 5\n",
       "0          NaN   Computer       data     result        pie      sugar\n",
       "1       Cherry          2          8          9      44260         25\n",
       "2   Strawberry          0          0          1          5         19\n",
       "3      Digital       1670       1683         85          5          4\n",
       "4  Information       3325       3982        378        512         13"
      ]
     },
     "execution_count": 5,
     "metadata": {},
     "output_type": "execute_result"
    }
   ],
   "source": [
    "df_PMI.head()"
   ]
  },
  {
   "cell_type": "code",
   "execution_count": 6,
   "metadata": {},
   "outputs": [
    {
     "data": {
      "text/html": [
       "<div>\n",
       "<style scoped>\n",
       "    .dataframe tbody tr th:only-of-type {\n",
       "        vertical-align: middle;\n",
       "    }\n",
       "\n",
       "    .dataframe tbody tr th {\n",
       "        vertical-align: top;\n",
       "    }\n",
       "\n",
       "    .dataframe thead th {\n",
       "        text-align: right;\n",
       "    }\n",
       "</style>\n",
       "<table border=\"1\" class=\"dataframe\">\n",
       "  <thead>\n",
       "    <tr style=\"text-align: right;\">\n",
       "      <th></th>\n",
       "      <th>Unnamed: 0</th>\n",
       "      <th>Unnamed: 1</th>\n",
       "      <th>Unnamed: 2</th>\n",
       "      <th>Unnamed: 3</th>\n",
       "      <th>Unnamed: 4</th>\n",
       "      <th>Unnamed: 5</th>\n",
       "    </tr>\n",
       "  </thead>\n",
       "  <tbody>\n",
       "    <tr>\n",
       "      <th>0</th>\n",
       "      <td>NaN</td>\n",
       "      <td>Computer</td>\n",
       "      <td>data</td>\n",
       "      <td>result</td>\n",
       "      <td>pie</td>\n",
       "      <td>sugar</td>\n",
       "    </tr>\n",
       "    <tr>\n",
       "      <th>1</th>\n",
       "      <td>Cherry</td>\n",
       "      <td>2</td>\n",
       "      <td>8</td>\n",
       "      <td>9</td>\n",
       "      <td>44260</td>\n",
       "      <td>25</td>\n",
       "    </tr>\n",
       "    <tr>\n",
       "      <th>2</th>\n",
       "      <td>Strawberry</td>\n",
       "      <td>0</td>\n",
       "      <td>0</td>\n",
       "      <td>1</td>\n",
       "      <td>5</td>\n",
       "      <td>19</td>\n",
       "    </tr>\n",
       "    <tr>\n",
       "      <th>3</th>\n",
       "      <td>Digital</td>\n",
       "      <td>1670</td>\n",
       "      <td>1683</td>\n",
       "      <td>85</td>\n",
       "      <td>5</td>\n",
       "      <td>4</td>\n",
       "    </tr>\n",
       "    <tr>\n",
       "      <th>4</th>\n",
       "      <td>Information</td>\n",
       "      <td>3325</td>\n",
       "      <td>3982</td>\n",
       "      <td>378</td>\n",
       "      <td>512</td>\n",
       "      <td>13</td>\n",
       "    </tr>\n",
       "  </tbody>\n",
       "</table>\n",
       "</div>"
      ],
      "text/plain": [
       "    Unnamed: 0 Unnamed: 1 Unnamed: 2 Unnamed: 3 Unnamed: 4 Unnamed: 5\n",
       "0          NaN   Computer       data     result        pie      sugar\n",
       "1       Cherry          2          8          9      44260         25\n",
       "2   Strawberry          0          0          1          5         19\n",
       "3      Digital       1670       1683         85          5          4\n",
       "4  Information       3325       3982        378        512         13"
      ]
     },
     "execution_count": 6,
     "metadata": {},
     "output_type": "execute_result"
    }
   ],
   "source": [
    "# Limpia de datos\n",
    "df_PMI_new = df_PMI.dropna(how='all', axis=1).dropna(how='all', axis=0)\n",
    "df_PMI_new.columns = df_PMI_new.iloc[0]  \n",
    "df_PMI_new = df_PMI_new.drop(0)  \n",
    "\n",
    "df_PMI_new = df_PMI_new.apply(pd.to_numeric, errors='ignore')\n",
    "df_PMI_new.reset_index(drop=True, inplace=True)\n",
    "\n",
    "df_PMI.head()"
   ]
  },
  {
   "cell_type": "code",
   "execution_count": 7,
   "metadata": {},
   "outputs": [
    {
     "name": "stderr",
     "output_type": "stream",
     "text": [
      "/var/folders/8f/4tqfct110qxbk9qrh28g1lpr0000gn/T/ipykernel_10955/139225292.py:18: RuntimeWarning: divide by zero encountered in log2\n",
      "  PPMI = np.maximum(np.log2(Pxy / (Px[:, np.newaxis] * Py[np.newaxis, :])), 0)\n"
     ]
    }
   ],
   "source": [
    "def PalphaR(matrix, alpha=1.0):\n",
    "    row_totals = matrix.sum(axis=1)\n",
    "    V = matrix.shape[1]\n",
    "\n",
    "    P_alpha = (matrix + alpha) / (row_totals[:, np.newaxis] + alpha * V)\n",
    "    \n",
    "    return P_alpha\n",
    "\n",
    "def PPMI(matrix):\n",
    "    row_totals = matrix.sum(axis=1)\n",
    "    col_totals = matrix.sum(axis=0)\n",
    "    total_count = matrix.sum().sum()\n",
    "    \n",
    "    Pxy = matrix / total_count\n",
    "    Px = row_totals / total_count\n",
    "    Py = col_totals / total_count\n",
    "    \n",
    "    PPMI = np.maximum(np.log2(Pxy / (Px[:, np.newaxis] * Py[np.newaxis, :])), 0)\n",
    "    \n",
    "    return PPMI\n",
    "\n",
    "matrix = df_PMI_new.iloc[:, 1:].astype(float).values\n",
    "\n",
    "PalphaRes = PalphaR(matrix, alpha=1.0)\n",
    "PPMIRes = PPMI(matrix)"
   ]
  },
  {
   "cell_type": "code",
   "execution_count": 8,
   "metadata": {},
   "outputs": [
    {
     "name": "stdout",
     "output_type": "stream",
     "text": [
      "Resultados P_alpha: \n",
      "\n",
      " [[6.77063351e-05 2.03119005e-04 2.25687784e-04 9.98916699e-01\n",
      "  5.86788237e-04]\n",
      " [3.33333333e-02 3.33333333e-02 6.66666667e-02 2.00000000e-01\n",
      "  6.66666667e-01]\n",
      " [4.84067207e-01 4.87833140e-01 2.49130939e-02 1.73812283e-03\n",
      "  1.44843569e-03]\n",
      " [4.04869142e-01 4.84844796e-01 4.61351187e-02 6.24467438e-02\n",
      "  1.70419963e-03]]\n"
     ]
    }
   ],
   "source": [
    "print(f\"Resultados P_alpha: \\n\\n {PalphaRes}\")"
   ]
  },
  {
   "cell_type": "code",
   "execution_count": 9,
   "metadata": {},
   "outputs": [
    {
     "name": "stdout",
     "output_type": "stream",
     "text": [
      "Resultados PPMI: \n",
      "\n",
      " [[0.         0.         0.         0.32071364 0.        ]\n",
      " [0.         0.         2.24322592 0.         9.44611247]\n",
      " [2.44043879 2.26857622 1.54534747 0.         0.09091557]\n",
      " [2.1819041  2.25899334 2.44615803 0.         0.53931436]]\n"
     ]
    }
   ],
   "source": [
    "print(f\"Resultados PPMI: \\n\\n {PPMIRes}\")"
   ]
  },
  {
   "cell_type": "code",
   "execution_count": 10,
   "metadata": {},
   "outputs": [],
   "source": [
    "P_alpha_df = pd.DataFrame(PalphaRes, index=df_PMI_new.iloc[:, 0], columns=df_PMI_new.columns[1:])\n",
    "PPMI_df = pd.DataFrame(PPMIRes, index=df_PMI_new.iloc[:, 0], columns=df_PMI_new.columns[1:])"
   ]
  },
  {
   "cell_type": "code",
   "execution_count": 11,
   "metadata": {},
   "outputs": [
    {
     "name": "stdout",
     "output_type": "stream",
     "text": [
      "Resultados P_alpha: \n"
     ]
    },
    {
     "data": {
      "text/html": [
       "<div>\n",
       "<style scoped>\n",
       "    .dataframe tbody tr th:only-of-type {\n",
       "        vertical-align: middle;\n",
       "    }\n",
       "\n",
       "    .dataframe tbody tr th {\n",
       "        vertical-align: top;\n",
       "    }\n",
       "\n",
       "    .dataframe thead th {\n",
       "        text-align: right;\n",
       "    }\n",
       "</style>\n",
       "<table border=\"1\" class=\"dataframe\">\n",
       "  <thead>\n",
       "    <tr style=\"text-align: right;\">\n",
       "      <th></th>\n",
       "      <th>Computer</th>\n",
       "      <th>data</th>\n",
       "      <th>result</th>\n",
       "      <th>pie</th>\n",
       "      <th>sugar</th>\n",
       "    </tr>\n",
       "    <tr>\n",
       "      <th>nan</th>\n",
       "      <th></th>\n",
       "      <th></th>\n",
       "      <th></th>\n",
       "      <th></th>\n",
       "      <th></th>\n",
       "    </tr>\n",
       "  </thead>\n",
       "  <tbody>\n",
       "    <tr>\n",
       "      <th>Cherry</th>\n",
       "      <td>0.000068</td>\n",
       "      <td>0.000203</td>\n",
       "      <td>0.000226</td>\n",
       "      <td>0.998917</td>\n",
       "      <td>0.000587</td>\n",
       "    </tr>\n",
       "    <tr>\n",
       "      <th>Strawberry</th>\n",
       "      <td>0.033333</td>\n",
       "      <td>0.033333</td>\n",
       "      <td>0.066667</td>\n",
       "      <td>0.200000</td>\n",
       "      <td>0.666667</td>\n",
       "    </tr>\n",
       "    <tr>\n",
       "      <th>Digital</th>\n",
       "      <td>0.484067</td>\n",
       "      <td>0.487833</td>\n",
       "      <td>0.024913</td>\n",
       "      <td>0.001738</td>\n",
       "      <td>0.001448</td>\n",
       "    </tr>\n",
       "    <tr>\n",
       "      <th>Information</th>\n",
       "      <td>0.404869</td>\n",
       "      <td>0.484845</td>\n",
       "      <td>0.046135</td>\n",
       "      <td>0.062447</td>\n",
       "      <td>0.001704</td>\n",
       "    </tr>\n",
       "  </tbody>\n",
       "</table>\n",
       "</div>"
      ],
      "text/plain": [
       "0            Computer      data    result       pie     sugar\n",
       "nan                                                          \n",
       "Cherry       0.000068  0.000203  0.000226  0.998917  0.000587\n",
       "Strawberry   0.033333  0.033333  0.066667  0.200000  0.666667\n",
       "Digital      0.484067  0.487833  0.024913  0.001738  0.001448\n",
       "Information  0.404869  0.484845  0.046135  0.062447  0.001704"
      ]
     },
     "execution_count": 11,
     "metadata": {},
     "output_type": "execute_result"
    }
   ],
   "source": [
    "print(\"Resultados P_alpha: \")\n",
    "P_alpha_df.head()"
   ]
  },
  {
   "cell_type": "code",
   "execution_count": 12,
   "metadata": {},
   "outputs": [
    {
     "name": "stdout",
     "output_type": "stream",
     "text": [
      "Resultados PPMI: \n"
     ]
    },
    {
     "data": {
      "text/html": [
       "<div>\n",
       "<style scoped>\n",
       "    .dataframe tbody tr th:only-of-type {\n",
       "        vertical-align: middle;\n",
       "    }\n",
       "\n",
       "    .dataframe tbody tr th {\n",
       "        vertical-align: top;\n",
       "    }\n",
       "\n",
       "    .dataframe thead th {\n",
       "        text-align: right;\n",
       "    }\n",
       "</style>\n",
       "<table border=\"1\" class=\"dataframe\">\n",
       "  <thead>\n",
       "    <tr style=\"text-align: right;\">\n",
       "      <th></th>\n",
       "      <th>Computer</th>\n",
       "      <th>data</th>\n",
       "      <th>result</th>\n",
       "      <th>pie</th>\n",
       "      <th>sugar</th>\n",
       "    </tr>\n",
       "    <tr>\n",
       "      <th>nan</th>\n",
       "      <th></th>\n",
       "      <th></th>\n",
       "      <th></th>\n",
       "      <th></th>\n",
       "      <th></th>\n",
       "    </tr>\n",
       "  </thead>\n",
       "  <tbody>\n",
       "    <tr>\n",
       "      <th>Cherry</th>\n",
       "      <td>0.000000</td>\n",
       "      <td>0.000000</td>\n",
       "      <td>0.000000</td>\n",
       "      <td>0.320714</td>\n",
       "      <td>0.000000</td>\n",
       "    </tr>\n",
       "    <tr>\n",
       "      <th>Strawberry</th>\n",
       "      <td>0.000000</td>\n",
       "      <td>0.000000</td>\n",
       "      <td>2.243226</td>\n",
       "      <td>0.000000</td>\n",
       "      <td>9.446112</td>\n",
       "    </tr>\n",
       "    <tr>\n",
       "      <th>Digital</th>\n",
       "      <td>2.440439</td>\n",
       "      <td>2.268576</td>\n",
       "      <td>1.545347</td>\n",
       "      <td>0.000000</td>\n",
       "      <td>0.090916</td>\n",
       "    </tr>\n",
       "    <tr>\n",
       "      <th>Information</th>\n",
       "      <td>2.181904</td>\n",
       "      <td>2.258993</td>\n",
       "      <td>2.446158</td>\n",
       "      <td>0.000000</td>\n",
       "      <td>0.539314</td>\n",
       "    </tr>\n",
       "  </tbody>\n",
       "</table>\n",
       "</div>"
      ],
      "text/plain": [
       "0            Computer      data    result       pie     sugar\n",
       "nan                                                          \n",
       "Cherry       0.000000  0.000000  0.000000  0.320714  0.000000\n",
       "Strawberry   0.000000  0.000000  2.243226  0.000000  9.446112\n",
       "Digital      2.440439  2.268576  1.545347  0.000000  0.090916\n",
       "Information  2.181904  2.258993  2.446158  0.000000  0.539314"
      ]
     },
     "execution_count": 12,
     "metadata": {},
     "output_type": "execute_result"
    }
   ],
   "source": [
    "print(\"Resultados PPMI: \")\n",
    "PPMI_df.head()"
   ]
  },
  {
   "cell_type": "code",
   "execution_count": 13,
   "metadata": {},
   "outputs": [
    {
     "name": "stdout",
     "output_type": "stream",
     "text": [
      "0         Cherry\n",
      "1     Strawberry\n",
      "2        Digital\n",
      "3    Information\n",
      "Name: nan, dtype: object\n",
      "Index(['Computer', 'data', 'result', 'pie', 'sugar'], dtype='object', name=0)\n"
     ]
    }
   ],
   "source": [
    "print(df_PMI_new.iloc[:, 0])  \n",
    "print(df_PMI_new.columns[1:]) "
   ]
  },
  {
   "cell_type": "code",
   "execution_count": 14,
   "metadata": {},
   "outputs": [],
   "source": [
    "df_PMI_new = df_PMI_new.dropna(axis=0, how='any')  \n",
    "df_PMI_new = df_PMI_new.dropna(axis=1, how='any')  \n"
   ]
  },
  {
   "cell_type": "code",
   "execution_count": null,
   "metadata": {},
   "outputs": [],
   "source": []
  }
 ],
 "metadata": {
  "kernelspec": {
   "display_name": "base",
   "language": "python",
   "name": "python3"
  },
  "language_info": {
   "codemirror_mode": {
    "name": "ipython",
    "version": 3
   },
   "file_extension": ".py",
   "mimetype": "text/x-python",
   "name": "python",
   "nbconvert_exporter": "python",
   "pygments_lexer": "ipython3",
   "version": "3.9.6"
  }
 },
 "nbformat": 4,
 "nbformat_minor": 2
}
