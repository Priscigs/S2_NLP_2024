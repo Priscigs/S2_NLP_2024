{
  "cells": [
    {
      "cell_type": "markdown",
      "metadata": {
        "id": "zXhjY9dGwJls"
      },
      "source": [
        "NOMBRES: Fátima Priscilla \n",
        "\n",
        "APELLIDOS: González Sandoval\n",
        "\n",
        "CARNE: 20689\n",
        "\n",
        "FECHA: 11 de julio 2024"
      ]
    },
    {
      "cell_type": "markdown",
      "metadata": {
        "id": "48-U5dvMxDBK"
      },
      "source": [
        "***Instrucciones:**\n",
        "\n",
        "Objetivo general: Construir un chatbot simple que responda en dos condiciones: si se le habla por su nombre que responda preguntando cómo estás. Si se le habla por un apodo que \"considere\" ofensivo, que responda \"No me trates así\".\n",
        "\n",
        "\n",
        "1.   Investigue la librería re de Python\n",
        "2.   Determine, como expresiones regulares de saludo a \"Hola\", \"Que tal\", \"Buenos días\", \"Buenas tardes\". Si usted considera pertinente agregar una más tiene libertad de hacerlo.\n",
        "3. Procure que el chatbot no sea \"case sensitive\".\n",
        "4. Procure que el chatbot pueda trabajar con todos los caracteres de \"a-z\".}\n",
        "5. Evalue si su chatbot es susceptible a errores ortográficos. ¿Sí o no? En caso afirmativo ¿Cómo lo corregiría? Discuta su idea, no está obligado a programarlo.\n",
        "\n",
        "\n"
      ]
    },
    {
      "cell_type": "markdown",
      "metadata": {
        "id": "viZbeCe1w1CN"
      },
      "source": [
        "#### 1. La librería re se utiliza para expresiones regulares"
      ]
    },
    {
      "cell_type": "code",
      "execution_count": 13,
      "metadata": {},
      "outputs": [],
      "source": [
        "import re"
      ]
    },
    {
      "cell_type": "code",
      "execution_count": 14,
      "metadata": {},
      "outputs": [],
      "source": [
        "greetings = [\n",
        "    r'hola',\n",
        "    r'qué tal',\n",
        "    r'buenos días',\n",
        "    r'buenas tardes'\n",
        "    r'buenas noches'\n",
        "]"
      ]
    },
    {
      "cell_type": "code",
      "execution_count": 15,
      "metadata": {},
      "outputs": [],
      "source": [
        "saludo_regex = re.compile('|'.join(greetings), re.IGNORECASE)\n",
        "\n",
        "expresion_ofensiva = re.compile(r'(?i)tonto|burro|cerebrito')\n",
        "\n",
        "# Nombre del chatbot\n",
        "nombre_chatbot = \"chatbot\"\n",
        "\n",
        "saludo_nombre_regex = re.compile(fr'\\b({\"|\".join(greetings)})\\s+{nombre_chatbot}\\b', re.IGNORECASE)"
      ]
    },
    {
      "cell_type": "code",
      "execution_count": 16,
      "metadata": {},
      "outputs": [],
      "source": [
        "def is_greeting(message):\n",
        "    return saludo_regex.search(message) is not None"
      ]
    },
    {
      "cell_type": "code",
      "execution_count": 17,
      "metadata": {},
      "outputs": [],
      "source": [
        "def chatbot(message):\n",
        "    # Verificación con nombre del chat\n",
        "    if saludo_nombre_regex.search(message):\n",
        "        return \"¿Cómo estás?\"\n",
        "    \n",
        "    # Verificación insultot\n",
        "    if is_greeting(message) and expresion_ofensiva.search(message):\n",
        "        return \"No me trates así.\"\n",
        "    \n",
        "    # Verificación cualquier mensaje sin mencionar el nombre del caht\n",
        "    if is_greeting(message):\n",
        "        return \"¿Cómo puedo ayudarte?\"\n",
        "\n",
        "    if expresion_ofensiva.search(message):\n",
        "        return \"No me trates así.\"\n",
        "    return \"¿Cómo puedo ayudarte?\""
      ]
    },
    {
      "cell_type": "code",
      "execution_count": 18,
      "metadata": {},
      "outputs": [
        {
          "name": "stdout",
          "output_type": "stream",
          "text": [
            "Chatbot: ¿Cómo estás?\n",
            "Chatbot: ¿Cómo puedo ayudarte?\n",
            "Chatbot: ¿Cómo estás?\n",
            "Chatbot: ¿Cómo puedo ayudarte?\n",
            "Chatbot: ¿Cómo puedo ayudarte?\n",
            "Chatbot: ¿Cómo estás?\n",
            "Chatbot: No me trates así.\n"
          ]
        }
      ],
      "source": [
        "while True:\n",
        "    message_usuario = input(\"Usuario: \")\n",
        "    respuesta = chatbot(message_usuario)\n",
        "    print(\"Chatbot:\", respuesta)\n",
        "    if respuesta == \"No me trates así.\":\n",
        "        break"
      ]
    },
    {
      "cell_type": "markdown",
      "metadata": {},
      "source": [
        "##### 5. Sí es bastante suceptible a errores ortográficos ya que la librería de regex no contiene alguna forma de poder corregirlos. Para poder solucionar esto, se podría insertar un diccionario con las posibles opciones ortográficas o sus posibles comparaciones. De esta forma se podría comparar con la entrada que el usuario indique y saber si debería de llevar tilde, h o alguna otra falta de ortografía. Por ejmplo, si se tiene la palabra \"que\", podría sustituirse por \"q\" o \"k\" y amabs deberían de estar correctas. Estas serían las contracciones que se deberían de agregar y manejar también como expresiones regulares."
      ]
    },
    {
      "cell_type": "markdown",
      "metadata": {},
      "source": []
    }
  ],
  "metadata": {
    "colab": {
      "provenance": []
    },
    "kernelspec": {
      "display_name": "Python 3",
      "name": "python3"
    },
    "language_info": {
      "codemirror_mode": {
        "name": "ipython",
        "version": 3
      },
      "file_extension": ".py",
      "mimetype": "text/x-python",
      "name": "python",
      "nbconvert_exporter": "python",
      "pygments_lexer": "ipython3",
      "version": "3.9.6"
    }
  },
  "nbformat": 4,
  "nbformat_minor": 0
}
